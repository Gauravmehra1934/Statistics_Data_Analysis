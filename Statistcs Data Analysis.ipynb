{
 "cells": [
  {
   "cell_type": "markdown",
   "id": "27bd8f0f-e7b8-4e78-b793-b0e7de28ee25",
   "metadata": {},
   "source": [
    "# STATISTICS DATA ANALYSIS PROJECT "
   ]
  },
  {
   "cell_type": "markdown",
   "id": "9ae10a1c-7cc0-4ebc-b35f-7754012a0371",
   "metadata": {},
   "source": [
    "## IMPORTING LIBRARIES"
   ]
  },
  {
   "cell_type": "code",
   "execution_count": 236,
   "id": "944568ac-37b3-417b-9cab-135e69d3732b",
   "metadata": {},
   "outputs": [],
   "source": [
    "import pandas as pd\n",
    "import matplotlib.pyplot as plt\n",
    "import seaborn as sns\n",
    "import scipy.stats as st\n",
    "import statsmodels.api as sm\n",
    "import warnings\n",
    "warnings.filterwarnings(\"ignore\")"
   ]
  },
  {
   "cell_type": "markdown",
   "id": "119c2913-3e6b-476f-a06e-53d5b2b28248",
   "metadata": {},
   "source": [
    "## LOADING THE DATA"
   ]
  },
  {
   "cell_type": "code",
   "execution_count": 294,
   "id": "5c17d03f-8e3d-411b-9b66-3ddea12d0404",
   "metadata": {},
   "outputs": [],
   "source": [
    "df=pd.read_csv(\"taxis_cleaned.csv\")"
   ]
  },
  {
   "cell_type": "code",
   "execution_count": 109,
   "id": "e5ccf6e3-235f-4103-82bc-8824fcda3b7a",
   "metadata": {},
   "outputs": [
    {
     "data": {
      "text/html": [
       "<div>\n",
       "<style scoped>\n",
       "    .dataframe tbody tr th:only-of-type {\n",
       "        vertical-align: middle;\n",
       "    }\n",
       "\n",
       "    .dataframe tbody tr th {\n",
       "        vertical-align: top;\n",
       "    }\n",
       "\n",
       "    .dataframe thead th {\n",
       "        text-align: right;\n",
       "    }\n",
       "</style>\n",
       "<table border=\"1\" class=\"dataframe\">\n",
       "  <thead>\n",
       "    <tr style=\"text-align: right;\">\n",
       "      <th></th>\n",
       "      <th>pickup</th>\n",
       "      <th>dropoff</th>\n",
       "      <th>passengers</th>\n",
       "      <th>distance</th>\n",
       "      <th>fare</th>\n",
       "      <th>tip</th>\n",
       "      <th>tolls</th>\n",
       "      <th>total</th>\n",
       "      <th>color</th>\n",
       "      <th>payment</th>\n",
       "      <th>pickup_zone</th>\n",
       "      <th>dropoff_zone</th>\n",
       "      <th>pickup_borough</th>\n",
       "      <th>dropoff_borough</th>\n",
       "    </tr>\n",
       "  </thead>\n",
       "  <tbody>\n",
       "    <tr>\n",
       "      <th>0</th>\n",
       "      <td>3/23/2019 20:21</td>\n",
       "      <td>3/23/2019 20:27</td>\n",
       "      <td>1</td>\n",
       "      <td>1.60</td>\n",
       "      <td>7.0</td>\n",
       "      <td>2.15</td>\n",
       "      <td>0.0</td>\n",
       "      <td>12.95</td>\n",
       "      <td>yellow</td>\n",
       "      <td>credit card</td>\n",
       "      <td>Lenox Hill West</td>\n",
       "      <td>UN/Turtle Bay South</td>\n",
       "      <td>Manhattan</td>\n",
       "      <td>Manhattan</td>\n",
       "    </tr>\n",
       "    <tr>\n",
       "      <th>1</th>\n",
       "      <td>3/4/2019 16:11</td>\n",
       "      <td>3/4/2019 16:19</td>\n",
       "      <td>1</td>\n",
       "      <td>0.79</td>\n",
       "      <td>5.0</td>\n",
       "      <td>0.00</td>\n",
       "      <td>0.0</td>\n",
       "      <td>9.30</td>\n",
       "      <td>yellow</td>\n",
       "      <td>cash</td>\n",
       "      <td>Upper West Side South</td>\n",
       "      <td>Upper West Side South</td>\n",
       "      <td>Manhattan</td>\n",
       "      <td>Manhattan</td>\n",
       "    </tr>\n",
       "    <tr>\n",
       "      <th>2</th>\n",
       "      <td>3/27/2019 17:53</td>\n",
       "      <td>3/27/2019 18:00</td>\n",
       "      <td>1</td>\n",
       "      <td>1.37</td>\n",
       "      <td>7.5</td>\n",
       "      <td>2.36</td>\n",
       "      <td>0.0</td>\n",
       "      <td>14.16</td>\n",
       "      <td>yellow</td>\n",
       "      <td>credit card</td>\n",
       "      <td>Alphabet City</td>\n",
       "      <td>West Village</td>\n",
       "      <td>Manhattan</td>\n",
       "      <td>Manhattan</td>\n",
       "    </tr>\n",
       "    <tr>\n",
       "      <th>3</th>\n",
       "      <td>3/10/2019 1:23</td>\n",
       "      <td>3/10/2019 1:49</td>\n",
       "      <td>1</td>\n",
       "      <td>7.70</td>\n",
       "      <td>27.0</td>\n",
       "      <td>6.15</td>\n",
       "      <td>0.0</td>\n",
       "      <td>36.95</td>\n",
       "      <td>yellow</td>\n",
       "      <td>credit card</td>\n",
       "      <td>Hudson Sq</td>\n",
       "      <td>Yorkville West</td>\n",
       "      <td>Manhattan</td>\n",
       "      <td>Manhattan</td>\n",
       "    </tr>\n",
       "    <tr>\n",
       "      <th>4</th>\n",
       "      <td>3/30/2019 13:27</td>\n",
       "      <td>3/30/2019 13:37</td>\n",
       "      <td>3</td>\n",
       "      <td>2.16</td>\n",
       "      <td>9.0</td>\n",
       "      <td>1.10</td>\n",
       "      <td>0.0</td>\n",
       "      <td>13.40</td>\n",
       "      <td>yellow</td>\n",
       "      <td>credit card</td>\n",
       "      <td>Midtown East</td>\n",
       "      <td>Yorkville West</td>\n",
       "      <td>Manhattan</td>\n",
       "      <td>Manhattan</td>\n",
       "    </tr>\n",
       "  </tbody>\n",
       "</table>\n",
       "</div>"
      ],
      "text/plain": [
       "            pickup          dropoff  passengers  distance  fare   tip  tolls  \\\n",
       "0  3/23/2019 20:21  3/23/2019 20:27           1      1.60   7.0  2.15    0.0   \n",
       "1   3/4/2019 16:11   3/4/2019 16:19           1      0.79   5.0  0.00    0.0   \n",
       "2  3/27/2019 17:53  3/27/2019 18:00           1      1.37   7.5  2.36    0.0   \n",
       "3   3/10/2019 1:23   3/10/2019 1:49           1      7.70  27.0  6.15    0.0   \n",
       "4  3/30/2019 13:27  3/30/2019 13:37           3      2.16   9.0  1.10    0.0   \n",
       "\n",
       "   total   color      payment            pickup_zone           dropoff_zone  \\\n",
       "0  12.95  yellow  credit card        Lenox Hill West    UN/Turtle Bay South   \n",
       "1   9.30  yellow         cash  Upper West Side South  Upper West Side South   \n",
       "2  14.16  yellow  credit card          Alphabet City           West Village   \n",
       "3  36.95  yellow  credit card              Hudson Sq         Yorkville West   \n",
       "4  13.40  yellow  credit card           Midtown East         Yorkville West   \n",
       "\n",
       "  pickup_borough dropoff_borough  \n",
       "0      Manhattan       Manhattan  \n",
       "1      Manhattan       Manhattan  \n",
       "2      Manhattan       Manhattan  \n",
       "3      Manhattan       Manhattan  \n",
       "4      Manhattan       Manhattan  "
      ]
     },
     "execution_count": 109,
     "metadata": {},
     "output_type": "execute_result"
    }
   ],
   "source": [
    "df.head()"
   ]
  },
  {
   "cell_type": "code",
   "execution_count": 110,
   "id": "ff7780cc-31fc-4ad5-ab6c-82ac3a5a443c",
   "metadata": {},
   "outputs": [
    {
     "data": {
      "text/plain": [
       "(6404, 14)"
      ]
     },
     "execution_count": 110,
     "metadata": {},
     "output_type": "execute_result"
    }
   ],
   "source": [
    "df.shape"
   ]
  },
  {
   "cell_type": "markdown",
   "id": "8b0a1a4a-9b7a-4eeb-b7ac-a8adf130e6c8",
   "metadata": {},
   "source": [
    "## EXPLORATORY DATA ANALYSIS"
   ]
  },
  {
   "cell_type": "code",
   "execution_count": 295,
   "id": "1e230be2-8e2e-4bb0-aba0-e46b23223b48",
   "metadata": {},
   "outputs": [
    {
     "data": {
      "text/plain": [
       "pickup              object\n",
       "dropoff             object\n",
       "passengers           int64\n",
       "distance           float64\n",
       "fare               float64\n",
       "tip                float64\n",
       "tolls              float64\n",
       "total              float64\n",
       "color               object\n",
       "payment             object\n",
       "pickup_zone         object\n",
       "dropoff_zone        object\n",
       "pickup_borough      object\n",
       "dropoff_borough     object\n",
       "dtype: object"
      ]
     },
     "execution_count": 295,
     "metadata": {},
     "output_type": "execute_result"
    }
   ],
   "source": [
    "df.dtypes"
   ]
  },
  {
   "cell_type": "code",
   "execution_count": 296,
   "id": "e5cc8476-d770-4b8a-9e9d-f217af0e1071",
   "metadata": {},
   "outputs": [],
   "source": [
    "df['pickup'] = pd.to_datetime(df['pickup'])\n",
    "df['dropoff'] = pd.to_datetime(df['dropoff'])"
   ]
  },
  {
   "cell_type": "code",
   "execution_count": 297,
   "id": "d62a0c87-0faf-4347-9475-5f9c665d5b1f",
   "metadata": {},
   "outputs": [
    {
     "data": {
      "text/plain": [
       "pickup             datetime64[ns]\n",
       "dropoff            datetime64[ns]\n",
       "passengers                  int64\n",
       "distance                  float64\n",
       "fare                      float64\n",
       "tip                       float64\n",
       "tolls                     float64\n",
       "total                     float64\n",
       "color                      object\n",
       "payment                    object\n",
       "pickup_zone                object\n",
       "dropoff_zone               object\n",
       "pickup_borough             object\n",
       "dropoff_borough            object\n",
       "dtype: object"
      ]
     },
     "execution_count": 297,
     "metadata": {},
     "output_type": "execute_result"
    }
   ],
   "source": [
    "df.dtypes"
   ]
  },
  {
   "cell_type": "code",
   "execution_count": 298,
   "id": "560bdd11-91bb-45b3-934e-78c81c0cb360",
   "metadata": {},
   "outputs": [],
   "source": [
    "df['duration']=df['dropoff']-df['pickup']\n",
    "df['duration']=df['duration'].dt.total_seconds()/60"
   ]
  },
  {
   "cell_type": "code",
   "execution_count": 299,
   "id": "d2032adf-c22e-4286-b563-fe6310460379",
   "metadata": {},
   "outputs": [
    {
     "data": {
      "text/html": [
       "<div>\n",
       "<style scoped>\n",
       "    .dataframe tbody tr th:only-of-type {\n",
       "        vertical-align: middle;\n",
       "    }\n",
       "\n",
       "    .dataframe tbody tr th {\n",
       "        vertical-align: top;\n",
       "    }\n",
       "\n",
       "    .dataframe thead th {\n",
       "        text-align: right;\n",
       "    }\n",
       "</style>\n",
       "<table border=\"1\" class=\"dataframe\">\n",
       "  <thead>\n",
       "    <tr style=\"text-align: right;\">\n",
       "      <th></th>\n",
       "      <th>passengers</th>\n",
       "      <th>payment</th>\n",
       "      <th>fare</th>\n",
       "      <th>tip</th>\n",
       "      <th>duration</th>\n",
       "    </tr>\n",
       "  </thead>\n",
       "  <tbody>\n",
       "    <tr>\n",
       "      <th>0</th>\n",
       "      <td>1</td>\n",
       "      <td>credit card</td>\n",
       "      <td>7.0</td>\n",
       "      <td>2.15</td>\n",
       "      <td>6.0</td>\n",
       "    </tr>\n",
       "    <tr>\n",
       "      <th>1</th>\n",
       "      <td>1</td>\n",
       "      <td>cash</td>\n",
       "      <td>5.0</td>\n",
       "      <td>0.00</td>\n",
       "      <td>8.0</td>\n",
       "    </tr>\n",
       "    <tr>\n",
       "      <th>2</th>\n",
       "      <td>1</td>\n",
       "      <td>credit card</td>\n",
       "      <td>7.5</td>\n",
       "      <td>2.36</td>\n",
       "      <td>7.0</td>\n",
       "    </tr>\n",
       "    <tr>\n",
       "      <th>3</th>\n",
       "      <td>1</td>\n",
       "      <td>credit card</td>\n",
       "      <td>27.0</td>\n",
       "      <td>6.15</td>\n",
       "      <td>26.0</td>\n",
       "    </tr>\n",
       "    <tr>\n",
       "      <th>4</th>\n",
       "      <td>3</td>\n",
       "      <td>credit card</td>\n",
       "      <td>9.0</td>\n",
       "      <td>1.10</td>\n",
       "      <td>10.0</td>\n",
       "    </tr>\n",
       "    <tr>\n",
       "      <th>...</th>\n",
       "      <td>...</td>\n",
       "      <td>...</td>\n",
       "      <td>...</td>\n",
       "      <td>...</td>\n",
       "      <td>...</td>\n",
       "    </tr>\n",
       "    <tr>\n",
       "      <th>6399</th>\n",
       "      <td>1</td>\n",
       "      <td>credit card</td>\n",
       "      <td>4.5</td>\n",
       "      <td>1.06</td>\n",
       "      <td>4.0</td>\n",
       "    </tr>\n",
       "    <tr>\n",
       "      <th>6400</th>\n",
       "      <td>1</td>\n",
       "      <td>credit card</td>\n",
       "      <td>58.0</td>\n",
       "      <td>0.00</td>\n",
       "      <td>56.0</td>\n",
       "    </tr>\n",
       "    <tr>\n",
       "      <th>6401</th>\n",
       "      <td>1</td>\n",
       "      <td>cash</td>\n",
       "      <td>16.0</td>\n",
       "      <td>0.00</td>\n",
       "      <td>19.0</td>\n",
       "    </tr>\n",
       "    <tr>\n",
       "      <th>6402</th>\n",
       "      <td>1</td>\n",
       "      <td>credit card</td>\n",
       "      <td>6.0</td>\n",
       "      <td>0.00</td>\n",
       "      <td>5.0</td>\n",
       "    </tr>\n",
       "    <tr>\n",
       "      <th>6403</th>\n",
       "      <td>1</td>\n",
       "      <td>credit card</td>\n",
       "      <td>15.0</td>\n",
       "      <td>3.36</td>\n",
       "      <td>17.0</td>\n",
       "    </tr>\n",
       "  </tbody>\n",
       "</table>\n",
       "<p>6404 rows × 5 columns</p>\n",
       "</div>"
      ],
      "text/plain": [
       "      passengers      payment  fare   tip  duration\n",
       "0              1  credit card   7.0  2.15       6.0\n",
       "1              1         cash   5.0  0.00       8.0\n",
       "2              1  credit card   7.5  2.36       7.0\n",
       "3              1  credit card  27.0  6.15      26.0\n",
       "4              3  credit card   9.0  1.10      10.0\n",
       "...          ...          ...   ...   ...       ...\n",
       "6399           1  credit card   4.5  1.06       4.0\n",
       "6400           1  credit card  58.0  0.00      56.0\n",
       "6401           1         cash  16.0  0.00      19.0\n",
       "6402           1  credit card   6.0  0.00       5.0\n",
       "6403           1  credit card  15.0  3.36      17.0\n",
       "\n",
       "[6404 rows x 5 columns]"
      ]
     },
     "execution_count": 299,
     "metadata": {},
     "output_type": "execute_result"
    }
   ],
   "source": [
    "df=df[['passengers','payment','fare','tip','duration']]\n",
    "df"
   ]
  },
  {
   "cell_type": "code",
   "execution_count": 300,
   "id": "6e5dbb8b-e677-4cbb-8106-58109ebcbb71",
   "metadata": {},
   "outputs": [
    {
     "data": {
      "text/plain": [
       "passengers    0\n",
       "payment       0\n",
       "fare          0\n",
       "tip           0\n",
       "duration      0\n",
       "dtype: int64"
      ]
     },
     "execution_count": 300,
     "metadata": {},
     "output_type": "execute_result"
    }
   ],
   "source": [
    "df.isnull().sum()"
   ]
  },
  {
   "cell_type": "code",
   "execution_count": 301,
   "id": "966b7fd8-1756-4dbc-a68a-5a6ec5628609",
   "metadata": {},
   "outputs": [
    {
     "data": {
      "text/html": [
       "<div>\n",
       "<style scoped>\n",
       "    .dataframe tbody tr th:only-of-type {\n",
       "        vertical-align: middle;\n",
       "    }\n",
       "\n",
       "    .dataframe tbody tr th {\n",
       "        vertical-align: top;\n",
       "    }\n",
       "\n",
       "    .dataframe thead th {\n",
       "        text-align: right;\n",
       "    }\n",
       "</style>\n",
       "<table border=\"1\" class=\"dataframe\">\n",
       "  <thead>\n",
       "    <tr style=\"text-align: right;\">\n",
       "      <th></th>\n",
       "      <th>passengers</th>\n",
       "      <th>payment</th>\n",
       "      <th>fare</th>\n",
       "      <th>tip</th>\n",
       "      <th>duration</th>\n",
       "    </tr>\n",
       "  </thead>\n",
       "  <tbody>\n",
       "    <tr>\n",
       "      <th>85</th>\n",
       "      <td>1</td>\n",
       "      <td>cash</td>\n",
       "      <td>5.0</td>\n",
       "      <td>0.00</td>\n",
       "      <td>4.0</td>\n",
       "    </tr>\n",
       "    <tr>\n",
       "      <th>95</th>\n",
       "      <td>1</td>\n",
       "      <td>cash</td>\n",
       "      <td>13.5</td>\n",
       "      <td>0.00</td>\n",
       "      <td>17.0</td>\n",
       "    </tr>\n",
       "    <tr>\n",
       "      <th>101</th>\n",
       "      <td>1</td>\n",
       "      <td>cash</td>\n",
       "      <td>6.5</td>\n",
       "      <td>0.00</td>\n",
       "      <td>6.0</td>\n",
       "    </tr>\n",
       "    <tr>\n",
       "      <th>118</th>\n",
       "      <td>1</td>\n",
       "      <td>cash</td>\n",
       "      <td>7.0</td>\n",
       "      <td>0.00</td>\n",
       "      <td>8.0</td>\n",
       "    </tr>\n",
       "    <tr>\n",
       "      <th>119</th>\n",
       "      <td>1</td>\n",
       "      <td>cash</td>\n",
       "      <td>2.5</td>\n",
       "      <td>0.00</td>\n",
       "      <td>0.0</td>\n",
       "    </tr>\n",
       "    <tr>\n",
       "      <th>...</th>\n",
       "      <td>...</td>\n",
       "      <td>...</td>\n",
       "      <td>...</td>\n",
       "      <td>...</td>\n",
       "      <td>...</td>\n",
       "    </tr>\n",
       "    <tr>\n",
       "      <th>6393</th>\n",
       "      <td>1</td>\n",
       "      <td>cash</td>\n",
       "      <td>16.0</td>\n",
       "      <td>0.00</td>\n",
       "      <td>19.0</td>\n",
       "    </tr>\n",
       "    <tr>\n",
       "      <th>6395</th>\n",
       "      <td>1</td>\n",
       "      <td>cash</td>\n",
       "      <td>8.0</td>\n",
       "      <td>0.00</td>\n",
       "      <td>7.0</td>\n",
       "    </tr>\n",
       "    <tr>\n",
       "      <th>6399</th>\n",
       "      <td>1</td>\n",
       "      <td>credit card</td>\n",
       "      <td>4.5</td>\n",
       "      <td>1.06</td>\n",
       "      <td>4.0</td>\n",
       "    </tr>\n",
       "    <tr>\n",
       "      <th>6401</th>\n",
       "      <td>1</td>\n",
       "      <td>cash</td>\n",
       "      <td>16.0</td>\n",
       "      <td>0.00</td>\n",
       "      <td>19.0</td>\n",
       "    </tr>\n",
       "    <tr>\n",
       "      <th>6402</th>\n",
       "      <td>1</td>\n",
       "      <td>credit card</td>\n",
       "      <td>6.0</td>\n",
       "      <td>0.00</td>\n",
       "      <td>5.0</td>\n",
       "    </tr>\n",
       "  </tbody>\n",
       "</table>\n",
       "<p>2083 rows × 5 columns</p>\n",
       "</div>"
      ],
      "text/plain": [
       "      passengers      payment  fare   tip  duration\n",
       "85             1         cash   5.0  0.00       4.0\n",
       "95             1         cash  13.5  0.00      17.0\n",
       "101            1         cash   6.5  0.00       6.0\n",
       "118            1         cash   7.0  0.00       8.0\n",
       "119            1         cash   2.5  0.00       0.0\n",
       "...          ...          ...   ...   ...       ...\n",
       "6393           1         cash  16.0  0.00      19.0\n",
       "6395           1         cash   8.0  0.00       7.0\n",
       "6399           1  credit card   4.5  1.06       4.0\n",
       "6401           1         cash  16.0  0.00      19.0\n",
       "6402           1  credit card   6.0  0.00       5.0\n",
       "\n",
       "[2083 rows x 5 columns]"
      ]
     },
     "execution_count": 301,
     "metadata": {},
     "output_type": "execute_result"
    }
   ],
   "source": [
    "df[df.duplicated()]\n"
   ]
  },
  {
   "cell_type": "code",
   "execution_count": 302,
   "id": "97bd0ecd-093d-4219-819e-4953f2bd8bf8",
   "metadata": {},
   "outputs": [],
   "source": [
    "df.drop_duplicates(inplace=True)"
   ]
  },
  {
   "cell_type": "code",
   "execution_count": 303,
   "id": "d5f33c7b-96b0-4953-b234-a93bdd040d06",
   "metadata": {},
   "outputs": [
    {
     "data": {
      "text/plain": [
       "(4321, 5)"
      ]
     },
     "execution_count": 303,
     "metadata": {},
     "output_type": "execute_result"
    }
   ],
   "source": [
    "df.shape"
   ]
  },
  {
   "cell_type": "code",
   "execution_count": 304,
   "id": "9682423e-a226-45e4-9e28-22acabf474ac",
   "metadata": {},
   "outputs": [
    {
     "data": {
      "text/plain": [
       "passengers\n",
       "1    0.650312\n",
       "2    0.161768\n",
       "5    0.056931\n",
       "3    0.049988\n",
       "6    0.034714\n",
       "4    0.024763\n",
       "0    0.021523\n",
       "Name: proportion, dtype: float64"
      ]
     },
     "execution_count": 304,
     "metadata": {},
     "output_type": "execute_result"
    }
   ],
   "source": [
    "df['passengers'].value_counts(normalize = True)"
   ]
  },
  {
   "cell_type": "code",
   "execution_count": 305,
   "id": "18bec6ca-d750-41bc-ad60-d831ff0cf162",
   "metadata": {},
   "outputs": [
    {
     "data": {
      "text/plain": [
       "payment\n",
       "credit card    0.721129\n",
       "cash           0.278871\n",
       "Name: proportion, dtype: float64"
      ]
     },
     "execution_count": 305,
     "metadata": {},
     "output_type": "execute_result"
    }
   ],
   "source": [
    "df['payment'].value_counts(normalize = True)"
   ]
  },
  {
   "cell_type": "code",
   "execution_count": 306,
   "id": "c366007d-dfd4-4fea-991e-ca55da28d582",
   "metadata": {},
   "outputs": [],
   "source": [
    "df=df[df['passengers']>0]"
   ]
  },
  {
   "cell_type": "code",
   "execution_count": 307,
   "id": "f55779ef-f3a6-478a-aba7-b72ea8f23095",
   "metadata": {},
   "outputs": [
    {
     "data": {
      "text/html": [
       "<div>\n",
       "<style scoped>\n",
       "    .dataframe tbody tr th:only-of-type {\n",
       "        vertical-align: middle;\n",
       "    }\n",
       "\n",
       "    .dataframe tbody tr th {\n",
       "        vertical-align: top;\n",
       "    }\n",
       "\n",
       "    .dataframe thead th {\n",
       "        text-align: right;\n",
       "    }\n",
       "</style>\n",
       "<table border=\"1\" class=\"dataframe\">\n",
       "  <thead>\n",
       "    <tr style=\"text-align: right;\">\n",
       "      <th></th>\n",
       "      <th>passengers</th>\n",
       "      <th>fare</th>\n",
       "      <th>tip</th>\n",
       "      <th>duration</th>\n",
       "    </tr>\n",
       "  </thead>\n",
       "  <tbody>\n",
       "    <tr>\n",
       "      <th>count</th>\n",
       "      <td>4228.000000</td>\n",
       "      <td>4228.000000</td>\n",
       "      <td>4228.000000</td>\n",
       "      <td>4228.000000</td>\n",
       "    </tr>\n",
       "    <tr>\n",
       "      <th>mean</th>\n",
       "      <td>1.753548</td>\n",
       "      <td>15.627571</td>\n",
       "      <td>2.490539</td>\n",
       "      <td>17.166509</td>\n",
       "    </tr>\n",
       "    <tr>\n",
       "      <th>std</th>\n",
       "      <td>1.359386</td>\n",
       "      <td>12.854828</td>\n",
       "      <td>2.647034</td>\n",
       "      <td>12.838967</td>\n",
       "    </tr>\n",
       "    <tr>\n",
       "      <th>min</th>\n",
       "      <td>1.000000</td>\n",
       "      <td>1.000000</td>\n",
       "      <td>0.000000</td>\n",
       "      <td>0.000000</td>\n",
       "    </tr>\n",
       "    <tr>\n",
       "      <th>25%</th>\n",
       "      <td>1.000000</td>\n",
       "      <td>7.500000</td>\n",
       "      <td>0.000000</td>\n",
       "      <td>8.000000</td>\n",
       "    </tr>\n",
       "    <tr>\n",
       "      <th>50%</th>\n",
       "      <td>1.000000</td>\n",
       "      <td>11.500000</td>\n",
       "      <td>2.000000</td>\n",
       "      <td>14.000000</td>\n",
       "    </tr>\n",
       "    <tr>\n",
       "      <th>75%</th>\n",
       "      <td>2.000000</td>\n",
       "      <td>18.500000</td>\n",
       "      <td>3.300000</td>\n",
       "      <td>23.000000</td>\n",
       "    </tr>\n",
       "    <tr>\n",
       "      <th>max</th>\n",
       "      <td>6.000000</td>\n",
       "      <td>150.000000</td>\n",
       "      <td>23.190000</td>\n",
       "      <td>108.000000</td>\n",
       "    </tr>\n",
       "  </tbody>\n",
       "</table>\n",
       "</div>"
      ],
      "text/plain": [
       "        passengers         fare          tip     duration\n",
       "count  4228.000000  4228.000000  4228.000000  4228.000000\n",
       "mean      1.753548    15.627571     2.490539    17.166509\n",
       "std       1.359386    12.854828     2.647034    12.838967\n",
       "min       1.000000     1.000000     0.000000     0.000000\n",
       "25%       1.000000     7.500000     0.000000     8.000000\n",
       "50%       1.000000    11.500000     2.000000    14.000000\n",
       "75%       2.000000    18.500000     3.300000    23.000000\n",
       "max       6.000000   150.000000    23.190000   108.000000"
      ]
     },
     "execution_count": 307,
     "metadata": {},
     "output_type": "execute_result"
    }
   ],
   "source": [
    "df.describe()"
   ]
  },
  {
   "cell_type": "code",
   "execution_count": 308,
   "id": "04491a47-39a4-47aa-9dbd-fac11e2725aa",
   "metadata": {},
   "outputs": [],
   "source": [
    "df=df[df['fare']>0]\n",
    "df=df[df['tip']>0]\n",
    "df=df[df['duration']>0]"
   ]
  },
  {
   "cell_type": "code",
   "execution_count": 309,
   "id": "076006fd-76bb-448e-9327-7bd220d5ce07",
   "metadata": {},
   "outputs": [
    {
     "data": {
      "text/html": [
       "<div>\n",
       "<style scoped>\n",
       "    .dataframe tbody tr th:only-of-type {\n",
       "        vertical-align: middle;\n",
       "    }\n",
       "\n",
       "    .dataframe tbody tr th {\n",
       "        vertical-align: top;\n",
       "    }\n",
       "\n",
       "    .dataframe thead th {\n",
       "        text-align: right;\n",
       "    }\n",
       "</style>\n",
       "<table border=\"1\" class=\"dataframe\">\n",
       "  <thead>\n",
       "    <tr style=\"text-align: right;\">\n",
       "      <th></th>\n",
       "      <th>passengers</th>\n",
       "      <th>fare</th>\n",
       "      <th>tip</th>\n",
       "      <th>duration</th>\n",
       "    </tr>\n",
       "  </thead>\n",
       "  <tbody>\n",
       "    <tr>\n",
       "      <th>count</th>\n",
       "      <td>3136.000000</td>\n",
       "      <td>3136.000000</td>\n",
       "      <td>3136.000000</td>\n",
       "      <td>3136.000000</td>\n",
       "    </tr>\n",
       "    <tr>\n",
       "      <th>mean</th>\n",
       "      <td>1.730230</td>\n",
       "      <td>14.043865</td>\n",
       "      <td>3.348811</td>\n",
       "      <td>15.457908</td>\n",
       "    </tr>\n",
       "    <tr>\n",
       "      <th>std</th>\n",
       "      <td>1.340544</td>\n",
       "      <td>11.034299</td>\n",
       "      <td>2.547568</td>\n",
       "      <td>11.314138</td>\n",
       "    </tr>\n",
       "    <tr>\n",
       "      <th>min</th>\n",
       "      <td>1.000000</td>\n",
       "      <td>2.500000</td>\n",
       "      <td>0.010000</td>\n",
       "      <td>1.000000</td>\n",
       "    </tr>\n",
       "    <tr>\n",
       "      <th>25%</th>\n",
       "      <td>1.000000</td>\n",
       "      <td>7.000000</td>\n",
       "      <td>1.890000</td>\n",
       "      <td>8.000000</td>\n",
       "    </tr>\n",
       "    <tr>\n",
       "      <th>50%</th>\n",
       "      <td>1.000000</td>\n",
       "      <td>10.500000</td>\n",
       "      <td>2.660000</td>\n",
       "      <td>13.000000</td>\n",
       "    </tr>\n",
       "    <tr>\n",
       "      <th>75%</th>\n",
       "      <td>2.000000</td>\n",
       "      <td>16.500000</td>\n",
       "      <td>3.950000</td>\n",
       "      <td>20.000000</td>\n",
       "    </tr>\n",
       "    <tr>\n",
       "      <th>max</th>\n",
       "      <td>6.000000</td>\n",
       "      <td>100.000000</td>\n",
       "      <td>23.190000</td>\n",
       "      <td>81.000000</td>\n",
       "    </tr>\n",
       "  </tbody>\n",
       "</table>\n",
       "</div>"
      ],
      "text/plain": [
       "        passengers         fare          tip     duration\n",
       "count  3136.000000  3136.000000  3136.000000  3136.000000\n",
       "mean      1.730230    14.043865     3.348811    15.457908\n",
       "std       1.340544    11.034299     2.547568    11.314138\n",
       "min       1.000000     2.500000     0.010000     1.000000\n",
       "25%       1.000000     7.000000     1.890000     8.000000\n",
       "50%       1.000000    10.500000     2.660000    13.000000\n",
       "75%       2.000000    16.500000     3.950000    20.000000\n",
       "max       6.000000   100.000000    23.190000    81.000000"
      ]
     },
     "execution_count": 309,
     "metadata": {},
     "output_type": "execute_result"
    }
   ],
   "source": [
    "df.describe()"
   ]
  },
  {
   "cell_type": "markdown",
   "id": "3efd4601-7e03-4949-9ede-8e285dc2f616",
   "metadata": {},
   "source": [
    "### Check Outliers"
   ]
  },
  {
   "cell_type": "code",
   "execution_count": 324,
   "id": "e158d344-128b-417d-b5d7-c72b502fd81f",
   "metadata": {},
   "outputs": [
    {
     "data": {
      "image/png": "[encoded data removed]",
      "text/plain": [
       "<Figure size 640x480 with 1 Axes>"
      ]
     },
     "metadata": {},
     "output_type": "display_data"
    }
   ],
   "source": [
    "plt.boxplot(df['fare'])\n",
    "plt.show()"
   ]
  },
  {
   "cell_type": "markdown",
   "id": "85162cac-b48d-4335-834c-067cc82b6171",
   "metadata": {},
   "source": [
    "### Remove Outliers"
   ]
  },
  {
   "cell_type": "code",
   "execution_count": 311,
   "id": "0093a9e5-0575-43bb-b918-3510adc08036",
   "metadata": {},
   "outputs": [],
   "source": [
    "for col in ['fare','tip','duration']:\n",
    "    q1=df[col].quantile(0.25)\n",
    "    q3=df[col].quantile(0.75)\n",
    "    iqr = q3-q1\n",
    "\n",
    "    lower_bound= q1-1.5*iqr\n",
    "    upper_bound= q3+1.5*iqr\n",
    "    df = df[(df[col]>=lower_bound) & (df[col]<=upper_bound)]"
   ]
  },
  {
   "cell_type": "code",
   "execution_count": 259,
   "id": "b8e944b6-326b-4e69-9a9d-8fe7a6e121b2",
   "metadata": {},
   "outputs": [
    {
     "data": {
      "text/html": [
       "<div>\n",
       "<style scoped>\n",
       "    .dataframe tbody tr th:only-of-type {\n",
       "        vertical-align: middle;\n",
       "    }\n",
       "\n",
       "    .dataframe tbody tr th {\n",
       "        vertical-align: top;\n",
       "    }\n",
       "\n",
       "    .dataframe thead th {\n",
       "        text-align: right;\n",
       "    }\n",
       "</style>\n",
       "<table border=\"1\" class=\"dataframe\">\n",
       "  <thead>\n",
       "    <tr style=\"text-align: right;\">\n",
       "      <th></th>\n",
       "      <th>passengers</th>\n",
       "      <th>payment</th>\n",
       "      <th>fare</th>\n",
       "      <th>tip</th>\n",
       "      <th>duration</th>\n",
       "    </tr>\n",
       "  </thead>\n",
       "  <tbody>\n",
       "    <tr>\n",
       "      <th>0</th>\n",
       "      <td>1</td>\n",
       "      <td>cash</td>\n",
       "      <td>7.0</td>\n",
       "      <td>2.15</td>\n",
       "      <td>6</td>\n",
       "    </tr>\n",
       "    <tr>\n",
       "      <th>1</th>\n",
       "      <td>1</td>\n",
       "      <td>cash</td>\n",
       "      <td>7.5</td>\n",
       "      <td>2.36</td>\n",
       "      <td>7</td>\n",
       "    </tr>\n",
       "    <tr>\n",
       "      <th>3</th>\n",
       "      <td>3</td>\n",
       "      <td>cash</td>\n",
       "      <td>9.0</td>\n",
       "      <td>1.10</td>\n",
       "      <td>10</td>\n",
       "    </tr>\n",
       "    <tr>\n",
       "      <th>4</th>\n",
       "      <td>1</td>\n",
       "      <td>cash</td>\n",
       "      <td>7.5</td>\n",
       "      <td>2.16</td>\n",
       "      <td>10</td>\n",
       "    </tr>\n",
       "    <tr>\n",
       "      <th>5</th>\n",
       "      <td>1</td>\n",
       "      <td>cash</td>\n",
       "      <td>13.0</td>\n",
       "      <td>2.00</td>\n",
       "      <td>10</td>\n",
       "    </tr>\n",
       "    <tr>\n",
       "      <th>...</th>\n",
       "      <td>...</td>\n",
       "      <td>...</td>\n",
       "      <td>...</td>\n",
       "      <td>...</td>\n",
       "      <td>...</td>\n",
       "    </tr>\n",
       "    <tr>\n",
       "      <th>2584</th>\n",
       "      <td>1</td>\n",
       "      <td>cash</td>\n",
       "      <td>11.5</td>\n",
       "      <td>2.00</td>\n",
       "      <td>11</td>\n",
       "    </tr>\n",
       "    <tr>\n",
       "      <th>2585</th>\n",
       "      <td>1</td>\n",
       "      <td>credit card</td>\n",
       "      <td>9.5</td>\n",
       "      <td>2.16</td>\n",
       "      <td>11</td>\n",
       "    </tr>\n",
       "    <tr>\n",
       "      <th>2586</th>\n",
       "      <td>2</td>\n",
       "      <td>credit card</td>\n",
       "      <td>11.0</td>\n",
       "      <td>2.91</td>\n",
       "      <td>14</td>\n",
       "    </tr>\n",
       "    <tr>\n",
       "      <th>2587</th>\n",
       "      <td>1</td>\n",
       "      <td>credit card</td>\n",
       "      <td>4.5</td>\n",
       "      <td>0.50</td>\n",
       "      <td>3</td>\n",
       "    </tr>\n",
       "    <tr>\n",
       "      <th>2588</th>\n",
       "      <td>1</td>\n",
       "      <td>credit card</td>\n",
       "      <td>15.0</td>\n",
       "      <td>3.36</td>\n",
       "      <td>17</td>\n",
       "    </tr>\n",
       "  </tbody>\n",
       "</table>\n",
       "<p>2492 rows × 5 columns</p>\n",
       "</div>"
      ],
      "text/plain": [
       "      passengers      payment  fare   tip  duration\n",
       "0              1         cash   7.0  2.15         6\n",
       "1              1         cash   7.5  2.36         7\n",
       "3              3         cash   9.0  1.10        10\n",
       "4              1         cash   7.5  2.16        10\n",
       "5              1         cash  13.0  2.00        10\n",
       "...          ...          ...   ...   ...       ...\n",
       "2584           1         cash  11.5  2.00        11\n",
       "2585           1  credit card   9.5  2.16        11\n",
       "2586           2  credit card  11.0  2.91        14\n",
       "2587           1  credit card   4.5  0.50         3\n",
       "2588           1  credit card  15.0  3.36        17\n",
       "\n",
       "[2492 rows x 5 columns]"
      ]
     },
     "execution_count": 259,
     "metadata": {},
     "output_type": "execute_result"
    }
   ],
   "source": [
    "df"
   ]
  },
  {
   "cell_type": "code",
   "execution_count": 312,
   "id": "897f9f1e-d233-49af-8ed5-385f2018d056",
   "metadata": {},
   "outputs": [
    {
     "data": {
      "image/png": "[encoded data removed]",
      "text/plain": [
       "<Figure size 1200x500 with 2 Axes>"
      ]
     },
     "metadata": {},
     "output_type": "display_data"
    }
   ],
   "source": [
    "plt.figure(figsize=(12,5))\n",
    "plt.subplot(1,2,1)\n",
    "plt.title(\"Distribution of fare amount\")\n",
    "plt.hist(df[df['payment']=='credit card']['fare'],histtype='barstacked',bins=20,edgecolor='k',color='#588157',label='card')\n",
    "plt.hist(df[df['payment']=='cash']['fare'],histtype='barstacked',bins=20,edgecolor='k',color='#a3b18a',label='cash')\n",
    "plt.legend()\n",
    "\n",
    "plt.subplot(1,2,2)\n",
    "plt.title(\"Distribution of trip distance\")\n",
    "plt.hist(df[df['payment']=='credit card']['tip'],histtype='barstacked',bins=20,edgecolor='k',color='#588157',label='card')\n",
    "plt.hist(df[df['payment']=='cash']['tip'],histtype='barstacked',bins=20,edgecolor='k',color='#a3b18a',label='cash')\n",
    "plt.legend()\n",
    "plt.show()"
   ]
  },
  {
   "cell_type": "code",
   "execution_count": 313,
   "id": "4cfe9fa2-a34f-4c55-b23c-cab3b22ced20",
   "metadata": {},
   "outputs": [
    {
     "data": {
      "text/html": [
       "<div>\n",
       "<style scoped>\n",
       "    .dataframe tbody tr th:only-of-type {\n",
       "        vertical-align: middle;\n",
       "    }\n",
       "\n",
       "    .dataframe tbody tr th {\n",
       "        vertical-align: top;\n",
       "    }\n",
       "\n",
       "    .dataframe thead tr th {\n",
       "        text-align: left;\n",
       "    }\n",
       "\n",
       "    .dataframe thead tr:last-of-type th {\n",
       "        text-align: right;\n",
       "    }\n",
       "</style>\n",
       "<table border=\"1\" class=\"dataframe\">\n",
       "  <thead>\n",
       "    <tr>\n",
       "      <th></th>\n",
       "      <th colspan=\"2\" halign=\"left\">fare</th>\n",
       "      <th colspan=\"2\" halign=\"left\">tip</th>\n",
       "    </tr>\n",
       "    <tr>\n",
       "      <th></th>\n",
       "      <th>mean</th>\n",
       "      <th>std</th>\n",
       "      <th>mean</th>\n",
       "      <th>std</th>\n",
       "    </tr>\n",
       "    <tr>\n",
       "      <th>payment</th>\n",
       "      <th></th>\n",
       "      <th></th>\n",
       "      <th></th>\n",
       "      <th></th>\n",
       "    </tr>\n",
       "  </thead>\n",
       "  <tbody>\n",
       "    <tr>\n",
       "      <th>cash</th>\n",
       "      <td>9.942308</td>\n",
       "      <td>4.762457</td>\n",
       "      <td>2.484495</td>\n",
       "      <td>1.064102</td>\n",
       "    </tr>\n",
       "    <tr>\n",
       "      <th>credit card</th>\n",
       "      <td>10.676368</td>\n",
       "      <td>5.128674</td>\n",
       "      <td>2.599500</td>\n",
       "      <td>1.178266</td>\n",
       "    </tr>\n",
       "  </tbody>\n",
       "</table>\n",
       "</div>"
      ],
      "text/plain": [
       "                  fare                 tip          \n",
       "                  mean       std      mean       std\n",
       "payment                                             \n",
       "cash          9.942308  4.762457  2.484495  1.064102\n",
       "credit card  10.676368  5.128674  2.599500  1.178266"
      ]
     },
     "execution_count": 313,
     "metadata": {},
     "output_type": "execute_result"
    }
   ],
   "source": [
    "df.groupby('payment').agg({'fare':['mean','std'],'tip':['mean','std']})"
   ]
  },
  {
   "cell_type": "code",
   "execution_count": 314,
   "id": "97b2360e-8116-480a-a186-e1fff2b55b4d",
   "metadata": {},
   "outputs": [
    {
     "data": {
      "image/png": "[encoded data removed]",
      "text/plain": [
       "<Figure size 640x480 with 1 Axes>"
      ]
     },
     "metadata": {},
     "output_type": "display_data"
    }
   ],
   "source": [
    "plt.title('Preference of payement type')\n",
    "plt.pie(df['payment'].value_counts(normalize=True),labels=df['payment'].value_counts().index,\n",
    "        startangle=90,shadow=True,autopct='%1.1f%%',colors=['#588157','#a3b18a'])\n",
    "plt.show()"
   ]
  },
  {
   "cell_type": "code",
   "execution_count": 315,
   "id": "e25473a8-4094-4c9a-8b87-44bc96690fcb",
   "metadata": {},
   "outputs": [],
   "source": [
    "passengers=df.groupby(['payment','passengers'])[['passengers']].count()\n",
    "passengers.rename(columns={'passengers':'count'},inplace=True)\n",
    "passengers.reset_index(inplace = True)"
   ]
  },
  {
   "cell_type": "code",
   "execution_count": 316,
   "id": "da72073a-647a-46ae-a707-17c941b9d423",
   "metadata": {},
   "outputs": [],
   "source": [
    "passengers['perc']= (passengers['count']/passengers['count'].sum())*100"
   ]
  },
  {
   "cell_type": "code",
   "execution_count": 317,
   "id": "ee0d12df-21e1-4bf9-82f3-6787106ec8e4",
   "metadata": {},
   "outputs": [
    {
     "data": {
      "text/html": [
       "<div>\n",
       "<style scoped>\n",
       "    .dataframe tbody tr th:only-of-type {\n",
       "        vertical-align: middle;\n",
       "    }\n",
       "\n",
       "    .dataframe tbody tr th {\n",
       "        vertical-align: top;\n",
       "    }\n",
       "\n",
       "    .dataframe thead th {\n",
       "        text-align: right;\n",
       "    }\n",
       "</style>\n",
       "<table border=\"1\" class=\"dataframe\">\n",
       "  <thead>\n",
       "    <tr style=\"text-align: right;\">\n",
       "      <th></th>\n",
       "      <th>payment</th>\n",
       "      <th>passengers</th>\n",
       "      <th>count</th>\n",
       "      <th>perc</th>\n",
       "    </tr>\n",
       "  </thead>\n",
       "  <tbody>\n",
       "    <tr>\n",
       "      <th>0</th>\n",
       "      <td>cash</td>\n",
       "      <td>1</td>\n",
       "      <td>286</td>\n",
       "      <td>10.522443</td>\n",
       "    </tr>\n",
       "    <tr>\n",
       "      <th>1</th>\n",
       "      <td>cash</td>\n",
       "      <td>2</td>\n",
       "      <td>73</td>\n",
       "      <td>2.685798</td>\n",
       "    </tr>\n",
       "    <tr>\n",
       "      <th>2</th>\n",
       "      <td>cash</td>\n",
       "      <td>3</td>\n",
       "      <td>16</td>\n",
       "      <td>0.588668</td>\n",
       "    </tr>\n",
       "    <tr>\n",
       "      <th>3</th>\n",
       "      <td>cash</td>\n",
       "      <td>4</td>\n",
       "      <td>8</td>\n",
       "      <td>0.294334</td>\n",
       "    </tr>\n",
       "    <tr>\n",
       "      <th>4</th>\n",
       "      <td>cash</td>\n",
       "      <td>5</td>\n",
       "      <td>19</td>\n",
       "      <td>0.699043</td>\n",
       "    </tr>\n",
       "    <tr>\n",
       "      <th>5</th>\n",
       "      <td>cash</td>\n",
       "      <td>6</td>\n",
       "      <td>14</td>\n",
       "      <td>0.515085</td>\n",
       "    </tr>\n",
       "    <tr>\n",
       "      <th>6</th>\n",
       "      <td>credit card</td>\n",
       "      <td>1</td>\n",
       "      <td>1518</td>\n",
       "      <td>55.849890</td>\n",
       "    </tr>\n",
       "    <tr>\n",
       "      <th>7</th>\n",
       "      <td>credit card</td>\n",
       "      <td>2</td>\n",
       "      <td>379</td>\n",
       "      <td>13.944077</td>\n",
       "    </tr>\n",
       "    <tr>\n",
       "      <th>8</th>\n",
       "      <td>credit card</td>\n",
       "      <td>3</td>\n",
       "      <td>117</td>\n",
       "      <td>4.304636</td>\n",
       "    </tr>\n",
       "    <tr>\n",
       "      <th>9</th>\n",
       "      <td>credit card</td>\n",
       "      <td>4</td>\n",
       "      <td>60</td>\n",
       "      <td>2.207506</td>\n",
       "    </tr>\n",
       "    <tr>\n",
       "      <th>10</th>\n",
       "      <td>credit card</td>\n",
       "      <td>5</td>\n",
       "      <td>144</td>\n",
       "      <td>5.298013</td>\n",
       "    </tr>\n",
       "    <tr>\n",
       "      <th>11</th>\n",
       "      <td>credit card</td>\n",
       "      <td>6</td>\n",
       "      <td>84</td>\n",
       "      <td>3.090508</td>\n",
       "    </tr>\n",
       "  </tbody>\n",
       "</table>\n",
       "</div>"
      ],
      "text/plain": [
       "        payment  passengers  count       perc\n",
       "0          cash           1    286  10.522443\n",
       "1          cash           2     73   2.685798\n",
       "2          cash           3     16   0.588668\n",
       "3          cash           4      8   0.294334\n",
       "4          cash           5     19   0.699043\n",
       "5          cash           6     14   0.515085\n",
       "6   credit card           1   1518  55.849890\n",
       "7   credit card           2    379  13.944077\n",
       "8   credit card           3    117   4.304636\n",
       "9   credit card           4     60   2.207506\n",
       "10  credit card           5    144   5.298013\n",
       "11  credit card           6     84   3.090508"
      ]
     },
     "execution_count": 317,
     "metadata": {},
     "output_type": "execute_result"
    }
   ],
   "source": [
    "passengers"
   ]
  },
  {
   "cell_type": "code",
   "execution_count": 318,
   "id": "f2204f15-6198-45ab-8727-c7e03b6859cc",
   "metadata": {},
   "outputs": [
    {
     "data": {
      "text/html": [
       "<div>\n",
       "<style scoped>\n",
       "    .dataframe tbody tr th:only-of-type {\n",
       "        vertical-align: middle;\n",
       "    }\n",
       "\n",
       "    .dataframe tbody tr th {\n",
       "        vertical-align: top;\n",
       "    }\n",
       "\n",
       "    .dataframe thead th {\n",
       "        text-align: right;\n",
       "    }\n",
       "</style>\n",
       "<table border=\"1\" class=\"dataframe\">\n",
       "  <thead>\n",
       "    <tr style=\"text-align: right;\">\n",
       "      <th></th>\n",
       "      <th>payment</th>\n",
       "      <th>1</th>\n",
       "      <th>2</th>\n",
       "      <th>3</th>\n",
       "      <th>4</th>\n",
       "      <th>5</th>\n",
       "      <th>6</th>\n",
       "    </tr>\n",
       "  </thead>\n",
       "  <tbody>\n",
       "    <tr>\n",
       "      <th>0</th>\n",
       "      <td>cash</td>\n",
       "      <td>10.522443</td>\n",
       "      <td>2.685798</td>\n",
       "      <td>0.588668</td>\n",
       "      <td>0.294334</td>\n",
       "      <td>0.699043</td>\n",
       "      <td>0.515085</td>\n",
       "    </tr>\n",
       "    <tr>\n",
       "      <th>1</th>\n",
       "      <td>card</td>\n",
       "      <td>55.84989</td>\n",
       "      <td>13.944077</td>\n",
       "      <td>4.304636</td>\n",
       "      <td>2.207506</td>\n",
       "      <td>5.298013</td>\n",
       "      <td>3.090508</td>\n",
       "    </tr>\n",
       "  </tbody>\n",
       "</table>\n",
       "</div>"
      ],
      "text/plain": [
       "  payment          1          2         3         4         5         6\n",
       "0    cash  10.522443   2.685798  0.588668  0.294334  0.699043  0.515085\n",
       "1    card   55.84989  13.944077  4.304636  2.207506  5.298013  3.090508"
      ]
     },
     "execution_count": 318,
     "metadata": {},
     "output_type": "execute_result"
    }
   ],
   "source": [
    "dfs=pd.DataFrame(columns=['payment',1,2,3,4,5,6])\n",
    "dfs['payment']=['cash','card']\n",
    "dfs.iloc[0,1:]=passengers.iloc[0:6,-1]\n",
    "dfs.iloc[1,1:]=passengers.iloc[6:,-1]\n",
    "dfs"
   ]
  },
  {
   "cell_type": "code",
   "execution_count": 280,
   "id": "5aec02f3-69dd-43fd-bb84-3a3ca574c479",
   "metadata": {},
   "outputs": [
    {
     "data": {
      "image/png": "[encoded data removed]",
      "text/plain": [
       "<Figure size 2000x600 with 1 Axes>"
      ]
     },
     "metadata": {},
     "output_type": "display_data"
    }
   ],
   "source": [
    "fig,ax=plt.subplots(figsize=(20,6))\n",
    "dfs.plot(x='payment',kind='barh',stacked=True,ax=ax,color=['#2f3e46','#344e41','#3a5a40','#588157','#a3b18a','#dad7cd'])\n",
    "for p in ax.patches:\n",
    "    width=p.get_width()\n",
    "    hight=p.get_height()\n",
    "    x,y=p.get_xy()\n",
    "    ax.text(x+width/2,\n",
    "            y+hight/2,\n",
    "            '{:.0f}%'.format(width),\n",
    "            horizontalalignment='center',\n",
    "            verticalalignment='center')"
   ]
  },
  {
   "cell_type": "markdown",
   "id": "7ce48023-f0c6-4065-949d-f208a8249158",
   "metadata": {},
   "source": [
    "##### Null Hypothesis: There is no difference in average fare between customers who use credit cards and customers who use cash\n",
    "##### Alternative Hypothesis: There is a difference in average fare between customers who use credit cards and customers who use cash"
   ]
  },
  {
   "cell_type": "code",
   "execution_count": 319,
   "id": "3808ee97-4e5e-4f99-b94a-54b9229c929f",
   "metadata": {},
   "outputs": [
    {
     "data": {
      "image/png": "[encoded data removed]",
      "text/plain": [
       "<Figure size 640x480 with 1 Axes>"
      ]
     },
     "metadata": {},
     "output_type": "display_data"
    }
   ],
   "source": [
    "sm.qqplot(df['fare'], line='45')\n",
    "plt.show()"
   ]
  },
  {
   "cell_type": "code",
   "execution_count": 321,
   "id": "48dae828-93f1-4e23-b728-79ea45e7d9cf",
   "metadata": {},
   "outputs": [],
   "source": [
    "card_sample=df[df['payment']=='credit card']['fare']\n",
    "cash_sample=df[df['payment']=='cash']['fare']"
   ]
  },
  {
   "cell_type": "code",
   "execution_count": 322,
   "id": "d59eb027-c51f-463f-a472-49b714a885f5",
   "metadata": {},
   "outputs": [
    {
     "name": "stdout",
     "output_type": "stream",
     "text": [
      "T Statistics 2.858455377899871 P value 0.004404299299629956\n"
     ]
    }
   ],
   "source": [
    "t_stat,p_value=st.ttest_ind(a=card_sample,b=cash_sample,equal_var=False)\n",
    "print(\"T Statistics\",t_stat,\"P value\",p_value)"
   ]
  },
  {
   "cell_type": "markdown",
   "id": "48e75353-5143-4a74-a4d2-f7162464074c",
   "metadata": {},
   "source": [
    "#### Based on our analysis, we have strong evidence to reject the null hypothesis. This means there is a statistically significant difference in the average fare between credit card users and cash users."
   ]
  },
  {
   "cell_type": "markdown",
   "id": "e1ed9496-9ff7-4195-afa6-47c3b1686fa7",
   "metadata": {},
   "source": [
    "# ________________________________________________________________"
   ]
  }
 ],
 "metadata": {
  "kernelspec": {
   "display_name": "Python 3 (ipykernel)",
   "language": "python",
   "name": "python3"
  },
  "language_info": {
   "codemirror_mode": {
    "name": "ipython",
    "version": 3
   },
   "file_extension": ".py",
   "mimetype": "text/x-python",
   "name": "python",
   "nbconvert_exporter": "python",
   "pygments_lexer": "ipython3",
   "version": "3.11.7"
  }
 },
 "nbformat": 4,
 "nbformat_minor": 5
}
